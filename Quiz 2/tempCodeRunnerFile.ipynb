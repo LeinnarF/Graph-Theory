shortest_paths, predecessors = G.dijkstra(start)

shortest_path = G.get_shortest_path(predecessors, start, target)

print(f"\nFastest route from {start} to {target}: {' -> '.join(shortest_path)}")
print(f"Total travel time: {shortest_paths[target]} minutes")